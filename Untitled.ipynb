{
 "cells": [
  {
   "cell_type": "code",
   "execution_count": 5,
   "metadata": {},
   "outputs": [],
   "source": [
    "from pyspark.sql import SparkSession"
   ]
  },
  {
   "cell_type": "code",
   "execution_count": 7,
   "id": "f1132b86",
   "metadata": {},
   "outputs": [],
   "source": [
    "spark = SparkSession.builder.appName('Aula').enableHiveSupport().getOrCreate()"
   ]
  },
  {
   "cell_type": "code",
   "execution_count": 8,
   "id": "88955538",
   "metadata": {},
   "outputs": [
    {
     "data": {
      "text/html": [
       "\n",
       "            <div>\n",
       "                <p><b>SparkSession - hive</b></p>\n",
       "                \n",
       "        <div>\n",
       "            <p><b>SparkContext</b></p>\n",
       "\n",
       "            <p><a href=\"http://dados:4040\">Spark UI</a></p>\n",
       "\n",
       "            <dl>\n",
       "              <dt>Version</dt>\n",
       "                <dd><code>v3.5.0</code></dd>\n",
       "              <dt>Master</dt>\n",
       "                <dd><code>local[*]</code></dd>\n",
       "              <dt>AppName</dt>\n",
       "                <dd><code>Aula</code></dd>\n",
       "            </dl>\n",
       "        </div>\n",
       "        \n",
       "            </div>\n",
       "        "
      ],
      "text/plain": [
       "<pyspark.sql.session.SparkSession at 0x1f06566d310>"
      ]
     },
     "execution_count": 8,
     "metadata": {},
     "output_type": "execute_result"
    }
   ],
   "source": [
    "spark"
   ]
  },
  {
   "cell_type": "code",
   "execution_count": 9,
   "id": "efff7870",
   "metadata": {},
   "outputs": [],
   "source": [
    "df_csv = spark.read.csv(r'C:\\Users\\Diego\\Documents\\Diego\\vs code\\dados.csv', header=True, sep=',')"
   ]
  },
  {
   "cell_type": "code",
   "execution_count": 10,
   "id": "2a31aeef",
   "metadata": {},
   "outputs": [
    {
     "name": "stdout",
     "output_type": "stream",
     "text": [
      "+----------+----------------+---------+----------+----------+----------+---------+-------------------+-------+\n",
      "|      date|       home_team|away_team|home_score|away_score|tournament|     city|            country|neutral|\n",
      "+----------+----------------+---------+----------+----------+----------+---------+-------------------+-------+\n",
      "|1872-11-30|        Scotland|  England|         0|         0|  Friendly|  Glasgow|           Scotland|  FALSE|\n",
      "|1873-03-08|         England| Scotland|         4|         2|  Friendly|   London|            England|  FALSE|\n",
      "|1874-03-07|        Scotland|  England|         2|         1|  Friendly|  Glasgow|           Scotland|  FALSE|\n",
      "|1875-03-06|         England| Scotland|         2|         2|  Friendly|   London|            England|  FALSE|\n",
      "|1876-03-04|        Scotland|  England|         3|         0|  Friendly|  Glasgow|           Scotland|  FALSE|\n",
      "|1876-03-25|        Scotland|    Wales|         4|         0|  Friendly|  Glasgow|           Scotland|  FALSE|\n",
      "|1877-03-03|         England| Scotland|         1|         3|  Friendly|   London|            England|  FALSE|\n",
      "|1877-03-05|           Wales| Scotland|         0|         2|  Friendly|  Wrexham|              Wales|  FALSE|\n",
      "|1878-03-02|        Scotland|  England|         7|         2|  Friendly|  Glasgow|           Scotland|  FALSE|\n",
      "|1878-03-23|        Scotland|    Wales|         9|         0|  Friendly|  Glasgow|           Scotland|  FALSE|\n",
      "|1879-01-18|         England|    Wales|         2|         1|  Friendly|   London|            England|  FALSE|\n",
      "|1879-04-05|         England| Scotland|         5|         4|  Friendly|   London|            England|  FALSE|\n",
      "|1879-04-07|           Wales| Scotland|         0|         3|  Friendly|  Wrexham|              Wales|  FALSE|\n",
      "|1880-03-13|        Scotland|  England|         5|         4|  Friendly|  Glasgow|           Scotland|  FALSE|\n",
      "|1880-03-15|           Wales|  England|         2|         3|  Friendly|  Wrexham|              Wales|  FALSE|\n",
      "|1880-03-27|        Scotland|    Wales|         5|         1|  Friendly|  Glasgow|           Scotland|  FALSE|\n",
      "|1881-02-26|         England|    Wales|         0|         1|  Friendly|Blackburn|            England|  FALSE|\n",
      "|1881-03-12|         England| Scotland|         1|         6|  Friendly|   London|            England|  FALSE|\n",
      "|1881-03-14|           Wales| Scotland|         1|         5|  Friendly|  Wrexham|              Wales|  FALSE|\n",
      "|1882-02-18|Northern Ireland|  England|         0|        13|  Friendly|  Belfast|Republic of Ireland|  FALSE|\n",
      "+----------+----------------+---------+----------+----------+----------+---------+-------------------+-------+\n",
      "only showing top 20 rows\n",
      "\n"
     ]
    }
   ],
   "source": [
    "df_csv.show()"
   ]
  },
  {
   "cell_type": "code",
   "execution_count": 11,
   "id": "877f1e90",
   "metadata": {},
   "outputs": [
    {
     "name": "stdout",
     "output_type": "stream",
     "text": [
      "root\n",
      " |-- date: string (nullable = true)\n",
      " |-- home_team: string (nullable = true)\n",
      " |-- away_team: string (nullable = true)\n",
      " |-- home_score: string (nullable = true)\n",
      " |-- away_score: string (nullable = true)\n",
      " |-- tournament: string (nullable = true)\n",
      " |-- city: string (nullable = true)\n",
      " |-- country: string (nullable = true)\n",
      " |-- neutral: string (nullable = true)\n",
      "\n"
     ]
    }
   ],
   "source": [
    "df_csv.printSchema()"
   ]
  },
  {
   "cell_type": "code",
   "execution_count": 12,
   "id": "d8a28cd5",
   "metadata": {},
   "outputs": [],
   "source": [
    "jogos = df_csv.withColumnRenamed('date','dt') \\\n",
    ".withColumnRenamed('home_team','mandante') \\\n",
    ".withColumnRenamed('away_team','visitante') \\\n",
    ".withColumnRenamed('home_score','gol_mandante') \\\n",
    ".withColumnRenamed('away_score','gol_visitante') \\\n",
    ".withColumnRenamed('tournament','torneio') \\\n",
    ".withColumnRenamed('city','cidade') \\\n",
    ".withColumnRenamed('country','pais') \\\n",
    ".drop('neutral')"
   ]
  },
  {
   "cell_type": "code",
   "execution_count": 13,
   "id": "21e6c0f0",
   "metadata": {},
   "outputs": [
    {
     "name": "stdout",
     "output_type": "stream",
     "text": [
      "root\n",
      " |-- dt: string (nullable = true)\n",
      " |-- mandante: string (nullable = true)\n",
      " |-- visitante: string (nullable = true)\n",
      " |-- gol_mandante: string (nullable = true)\n",
      " |-- gol_visitante: string (nullable = true)\n",
      " |-- torneio: string (nullable = true)\n",
      " |-- cidade: string (nullable = true)\n",
      " |-- pais: string (nullable = true)\n",
      "\n"
     ]
    }
   ],
   "source": [
    "jogos.printSchema()"
   ]
  },
  {
   "cell_type": "code",
   "execution_count": 14,
   "id": "b65c3506",
   "metadata": {},
   "outputs": [],
   "source": [
    "from pyspark.sql.functions import col\n",
    "final = jogos \\\n",
    "    .withColumn('gol_mandante',col('gol_mandante').cast('integer')) \\\n",
    "    .withColumn('gol_visitante',col('gol_visitante').cast('integer'))"
   ]
  },
  {
   "cell_type": "code",
   "execution_count": 20,
   "id": "7397c186",
   "metadata": {},
   "outputs": [
    {
     "name": "stdout",
     "output_type": "stream",
     "text": [
      "root\n",
      " |-- dt: string (nullable = true)\n",
      " |-- mandante: string (nullable = true)\n",
      " |-- visitante: string (nullable = true)\n",
      " |-- gol_mandante: integer (nullable = true)\n",
      " |-- gol_visitante: integer (nullable = true)\n",
      " |-- torneio: string (nullable = true)\n",
      " |-- cidade: string (nullable = true)\n",
      " |-- pais: string (nullable = true)\n",
      "\n"
     ]
    }
   ],
   "source": [
    "final.printSchema()"
   ]
  },
  {
   "cell_type": "markdown",
   "id": "d93a5e81",
   "metadata": {},
   "source": [
    "QUESTAO 1"
   ]
  },
  {
   "cell_type": "code",
   "execution_count": 15,
   "id": "8b09f2e8",
   "metadata": {},
   "outputs": [
    {
     "data": {
      "text/plain": [
       "40839"
      ]
     },
     "execution_count": 15,
     "metadata": {},
     "output_type": "execute_result"
    }
   ],
   "source": [
    "final.count()"
   ]
  },
  {
   "cell_type": "markdown",
   "id": "14ef6989",
   "metadata": {},
   "source": [
    "QUESTAO 2"
   ]
  },
  {
   "cell_type": "code",
   "execution_count": 16,
   "id": "cb3f63c2",
   "metadata": {},
   "outputs": [],
   "source": [
    "final.createTempView('tab')"
   ]
  },
  {
   "cell_type": "code",
   "execution_count": 19,
   "id": "7994e6ac",
   "metadata": {},
   "outputs": [
    {
     "name": "stdout",
     "output_type": "stream",
     "text": [
      "+------------------------+\n",
      "|count(DISTINCT mandante)|\n",
      "+------------------------+\n",
      "|                     309|\n",
      "+------------------------+\n",
      "\n"
     ]
    }
   ],
   "source": [
    "spark.sql('select count(distinct(mandante)) from tab').show()"
   ]
  },
  {
   "cell_type": "markdown",
   "id": "2c79d5ca",
   "metadata": {},
   "source": [
    "QUESTAO 3"
   ]
  },
  {
   "cell_type": "code",
   "execution_count": 20,
   "id": "d2ca48c8",
   "metadata": {},
   "outputs": [
    {
     "name": "stdout",
     "output_type": "stream",
     "text": [
      "+----------+----------------+---------+------------+-------------+--------+---------+-------------------+\n",
      "|        dt|        mandante|visitante|gol_mandante|gol_visitante| torneio|   cidade|               pais|\n",
      "+----------+----------------+---------+------------+-------------+--------+---------+-------------------+\n",
      "|1872-11-30|        Scotland|  England|           0|            0|Friendly|  Glasgow|           Scotland|\n",
      "|1873-03-08|         England| Scotland|           4|            2|Friendly|   London|            England|\n",
      "|1874-03-07|        Scotland|  England|           2|            1|Friendly|  Glasgow|           Scotland|\n",
      "|1875-03-06|         England| Scotland|           2|            2|Friendly|   London|            England|\n",
      "|1876-03-04|        Scotland|  England|           3|            0|Friendly|  Glasgow|           Scotland|\n",
      "|1876-03-25|        Scotland|    Wales|           4|            0|Friendly|  Glasgow|           Scotland|\n",
      "|1877-03-03|         England| Scotland|           1|            3|Friendly|   London|            England|\n",
      "|1877-03-05|           Wales| Scotland|           0|            2|Friendly|  Wrexham|              Wales|\n",
      "|1878-03-02|        Scotland|  England|           7|            2|Friendly|  Glasgow|           Scotland|\n",
      "|1878-03-23|        Scotland|    Wales|           9|            0|Friendly|  Glasgow|           Scotland|\n",
      "|1879-01-18|         England|    Wales|           2|            1|Friendly|   London|            England|\n",
      "|1879-04-05|         England| Scotland|           5|            4|Friendly|   London|            England|\n",
      "|1879-04-07|           Wales| Scotland|           0|            3|Friendly|  Wrexham|              Wales|\n",
      "|1880-03-13|        Scotland|  England|           5|            4|Friendly|  Glasgow|           Scotland|\n",
      "|1880-03-15|           Wales|  England|           2|            3|Friendly|  Wrexham|              Wales|\n",
      "|1880-03-27|        Scotland|    Wales|           5|            1|Friendly|  Glasgow|           Scotland|\n",
      "|1881-02-26|         England|    Wales|           0|            1|Friendly|Blackburn|            England|\n",
      "|1881-03-12|         England| Scotland|           1|            6|Friendly|   London|            England|\n",
      "|1881-03-14|           Wales| Scotland|           1|            5|Friendly|  Wrexham|              Wales|\n",
      "|1882-02-18|Northern Ireland|  England|           0|           13|Friendly|  Belfast|Republic of Ireland|\n",
      "+----------+----------------+---------+------------+-------------+--------+---------+-------------------+\n",
      "only showing top 20 rows\n",
      "\n"
     ]
    }
   ],
   "source": [
    "spark.sql('select * from tab').show()"
   ]
  },
  {
   "cell_type": "code",
   "execution_count": 21,
   "id": "e6198ea5",
   "metadata": {},
   "outputs": [
    {
     "name": "stdout",
     "output_type": "stream",
     "text": [
      "+---------------+\n",
      "|count(mandante)|\n",
      "+---------------+\n",
      "|          19864|\n",
      "+---------------+\n",
      "\n"
     ]
    }
   ],
   "source": [
    "spark.sql('select count(mandante) from tab where gol_mandante > gol_visitante').show()"
   ]
  },
  {
   "cell_type": "markdown",
   "id": "a2f01d04",
   "metadata": {},
   "source": [
    "QUESTAO 4"
   ]
  },
  {
   "cell_type": "code",
   "execution_count": 22,
   "id": "b81461b2",
   "metadata": {},
   "outputs": [
    {
     "name": "stdout",
     "output_type": "stream",
     "text": [
      "+----------------+\n",
      "|count(visitante)|\n",
      "+----------------+\n",
      "|           11544|\n",
      "+----------------+\n",
      "\n"
     ]
    }
   ],
   "source": [
    "spark.sql('select count(visitante) from tab where gol_mandante < gol_visitante').show()"
   ]
  },
  {
   "cell_type": "markdown",
   "id": "7bdb0cd4",
   "metadata": {},
   "source": [
    "QUESTAO 5"
   ]
  },
  {
   "cell_type": "code",
   "execution_count": 23,
   "id": "ebce3d64",
   "metadata": {},
   "outputs": [
    {
     "name": "stdout",
     "output_type": "stream",
     "text": [
      "+--------+\n",
      "|count(1)|\n",
      "+--------+\n",
      "|    9431|\n",
      "+--------+\n",
      "\n"
     ]
    }
   ],
   "source": [
    "spark.sql('select count(1) from tab where gol_mandante = gol_visitante').show()"
   ]
  },
  {
   "cell_type": "markdown",
   "id": "7b24b10b",
   "metadata": {},
   "source": [
    "QUESTAO 6"
   ]
  },
  {
   "cell_type": "code",
   "execution_count": 26,
   "id": "6189e952",
   "metadata": {},
   "outputs": [
    {
     "name": "stdout",
     "output_type": "stream",
     "text": [
      "+-------------------+--------+\n",
      "|               pais|partidas|\n",
      "+-------------------+--------+\n",
      "|               Chad|      40|\n",
      "|             Russia|     209|\n",
      "|           Paraguay|     218|\n",
      "|           Anguilla|      12|\n",
      "|              Yemen|      58|\n",
      "|U.S. Virgin Islands|      15|\n",
      "|     Chinese Taipei|      47|\n",
      "|            Senegal|     202|\n",
      "|             Sweden|     637|\n",
      "|             Guyana|      98|\n",
      "|        Philippines|      83|\n",
      "|              Burma|      79|\n",
      "|             Jersey|      68|\n",
      "|            Eritrea|      16|\n",
      "| Netherlands Guyana|      29|\n",
      "|           Djibouti|      21|\n",
      "|              Tonga|      12|\n",
      "|          Singapore|     368|\n",
      "|           Malaysia|     644|\n",
      "|               Fiji|     139|\n",
      "+-------------------+--------+\n",
      "only showing top 20 rows\n",
      "\n"
     ]
    }
   ],
   "source": [
    "spark.sql('select pais, count(1) as partidas from tab group by 1').show()"
   ]
  },
  {
   "cell_type": "markdown",
   "id": "c904527e",
   "metadata": {},
   "source": [
    "QUESTAO 7"
   ]
  },
  {
   "cell_type": "code",
   "execution_count": 37,
   "id": "3dd23a82",
   "metadata": {},
   "outputs": [
    {
     "name": "stdout",
     "output_type": "stream",
     "text": [
      "+-------------+--------+\n",
      "|         pais|partidas|\n",
      "+-------------+--------+\n",
      "|United States|    1144|\n",
      "+-------------+--------+\n",
      "\n"
     ]
    }
   ],
   "source": [
    "spark.sql('select pais, count(1) as partidas from tab group by 1 order by 2 desc limit 1').show()"
   ]
  },
  {
   "cell_type": "markdown",
   "id": "cc75ae66",
   "metadata": {},
   "source": [
    "QUESTAO 8"
   ]
  },
  {
   "cell_type": "code",
   "execution_count": 43,
   "id": "f3f92520",
   "metadata": {},
   "outputs": [
    {
     "name": "stdout",
     "output_type": "stream",
     "text": [
      "+----------+---------+--------------+------------+-------------+--------------------+-------------+---------+----------+\n",
      "|        dt| mandante|     visitante|gol_mandante|gol_visitante|             torneio|       cidade|     pais|total_gols|\n",
      "+----------+---------+--------------+------------+-------------+--------------------+-------------+---------+----------+\n",
      "|2001-04-11|Australia|American Samoa|          31|            0|FIFA World Cup qu...|Coffs Harbour|Australia|        31|\n",
      "+----------+---------+--------------+------------+-------------+--------------------+-------------+---------+----------+\n",
      "\n"
     ]
    }
   ],
   "source": [
    "spark.sql('select *, (gol_mandante + gol_visitante) as total_gols from tab order by total_gols desc limit 1').show()"
   ]
  },
  {
   "cell_type": "markdown",
   "id": "4591eb99",
   "metadata": {},
   "source": [
    "QUESTAO 9"
   ]
  },
  {
   "cell_type": "code",
   "execution_count": 55,
   "id": "b763c260",
   "metadata": {},
   "outputs": [
    {
     "name": "stdout",
     "output_type": "stream",
     "text": [
      "+----------+---------+--------------+------------+-------------+--------------------+-------------+---------+---------+\n",
      "|        dt| mandante|     visitante|gol_mandante|gol_visitante|             torneio|       cidade|     pais|diferenca|\n",
      "+----------+---------+--------------+------------+-------------+--------------------+-------------+---------+---------+\n",
      "|2001-04-11|Australia|American Samoa|          31|            0|FIFA World Cup qu...|Coffs Harbour|Australia|       31|\n",
      "+----------+---------+--------------+------------+-------------+--------------------+-------------+---------+---------+\n",
      "\n"
     ]
    }
   ],
   "source": [
    "spark.sql('select *, \\\n",
    "    case when (gol_mandante - gol_visitante) <0 then (gol_mandante - gol_visitante)*-1 \\\n",
    "    else (gol_mandante - gol_visitante) \\\n",
    "    end as diferenca \\\n",
    "         from tab order by diferenca desc limit 1').show(10)"
   ]
  },
  {
   "cell_type": "markdown",
   "id": "44a92d8e",
   "metadata": {},
   "source": [
    "QUESTAO 10"
   ]
  },
  {
   "cell_type": "code",
   "execution_count": 57,
   "id": "7a1adf5e",
   "metadata": {},
   "outputs": [
    {
     "name": "stdout",
     "output_type": "stream",
     "text": [
      "+--------+\n",
      "|partidas|\n",
      "+--------+\n",
      "|     529|\n",
      "+--------+\n",
      "\n"
     ]
    }
   ],
   "source": [
    "spark.sql('select count(1) as partidas from tab where pais = \"Brazil\"').show()"
   ]
  }
 ],
 "metadata": {
  "kernelspec": {
   "display_name": "Python 3",
   "language": "python",
   "name": "python3"
  },
  "language_info": {
   "codemirror_mode": {
    "name": "ipython",
    "version": 3
   },
   "file_extension": ".py",
   "mimetype": "text/x-python",
   "name": "python",
   "nbconvert_exporter": "python",
   "pygments_lexer": "ipython3",
   "version": "3.11.9"
  }
 },
 "nbformat": 4,
 "nbformat_minor": 5
}
